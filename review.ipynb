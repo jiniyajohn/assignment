{
 "cells": [
  {
   "cell_type": "markdown",
   "id": "9511c9dc-b1dc-4336-9bdc-ed0160d892b2",
   "metadata": {},
   "source": [
    "# My Jupyter Notebook on IBM Watson Studio "
   ]
  },
  {
   "cell_type": "markdown",
   "id": "81400917-d6cd-467d-8247-90c70d25e840",
   "metadata": {},
   "source": [
    "__Jiniya John__ <br>\n",
    "System Engineer"
   ]
  },
  {
   "cell_type": "markdown",
   "id": "69421b12-5de7-41f8-9e22-58a0c40d6b53",
   "metadata": {},
   "source": [
    "_My Jupyter Notebook on IBM Watson Studio_"
   ]
  },
  {
   "cell_type": "markdown",
   "id": "5d625036-3822-453f-9073-91a9cae2e5ab",
   "metadata": {},
   "source": [
    "### The following code test the multiplication"
   ]
  },
  {
   "cell_type": "code",
   "execution_count": 2,
   "id": "21814ffa-683d-478b-994e-f5a3e968f716",
   "metadata": {},
   "outputs": [
    {
     "name": "stdout",
     "output_type": "stream",
     "text": [
      "30\n"
     ]
    }
   ],
   "source": [
    "a=5\n",
    "b=6\n",
    "print (a*b)"
   ]
  },
  {
   "cell_type": "markdown",
   "id": "2953a496-6d5b-4794-b856-053f55ea972b",
   "metadata": {},
   "source": [
    "* One\n",
    "* Two\n",
    "* Three"
   ]
  },
  {
   "cell_type": "markdown",
   "id": "9e514230-6153-427a-8a2e-439a9f3a1872",
   "metadata": {},
   "source": [
    "***"
   ]
  },
  {
   "cell_type": "markdown",
   "id": "a441b7dd-cafc-45bd-9e37-c922c3be8550",
   "metadata": {},
   "source": [
    "1. One \n",
    "2. Two\n",
    "3. Three"
   ]
  }
 ],
 "metadata": {
  "kernelspec": {
   "display_name": "Python",
   "language": "python",
   "name": "conda-env-python-py"
  },
  "language_info": {
   "codemirror_mode": {
    "name": "ipython",
    "version": 3
   },
   "file_extension": ".py",
   "mimetype": "text/x-python",
   "name": "python",
   "nbconvert_exporter": "python",
   "pygments_lexer": "ipython3",
   "version": "3.7.12"
  }
 },
 "nbformat": 4,
 "nbformat_minor": 5
}
